{
 "cells": [
  {
   "cell_type": "code",
   "execution_count": 1,
   "id": "86069e57",
   "metadata": {},
   "outputs": [
    {
     "name": "stdout",
     "output_type": "stream",
     "text": [
      "Hello, World!\n"
     ]
    }
   ],
   "source": [
    "# Say \"Hello, World!\" With Python\n",
    "print(\"Hello, World!\")\n"
   ]
  },
  {
   "cell_type": "code",
   "execution_count": 2,
   "id": "14a15551",
   "metadata": {},
   "outputs": [
    {
     "name": "stdout",
     "output_type": "stream",
     "text": [
      "4\n",
      "Not Weird\n"
     ]
    }
   ],
   "source": [
    "# python if-else\n",
    "import math\n",
    "import os\n",
    "import random\n",
    "import re\n",
    "import sys\n",
    "\n",
    "\n",
    "\n",
    "if __name__ == '__main__':\n",
    "    n = int(input().strip())\n",
    "    if n>=1 and n<=100:\n",
    "        if n%2!=0:\n",
    "            print(\"Weird\")\n",
    "        elif n%2==0:\n",
    "            if 2<=n<=5:\n",
    "                print(\"Not Weird\")\n",
    "            elif 6<=n<=20:\n",
    "                print(\"Weird\")\n",
    "            elif n>20:\n",
    "                print(\"Not Weird\")"
   ]
  },
  {
   "cell_type": "code",
   "execution_count": 3,
   "id": "0750491f",
   "metadata": {},
   "outputs": [
    {
     "name": "stdout",
     "output_type": "stream",
     "text": [
      "a=1\n",
      "b=2\n",
      "3\n",
      "-1\n",
      "2\n"
     ]
    }
   ],
   "source": [
    "# Arithmetic opeartors\n",
    "a = int(input(\"a=\"))\n",
    "b = int(input(\"b=\"))\n",
    "print(a+b)\n",
    "print(a-b)\n",
    "print(a*b)"
   ]
  },
  {
   "cell_type": "code",
   "execution_count": 4,
   "id": "264cd3b0",
   "metadata": {},
   "outputs": [
    {
     "name": "stdout",
     "output_type": "stream",
     "text": [
      "1\n",
      "2\n",
      "0\n",
      "0.5\n"
     ]
    }
   ],
   "source": [
    "# python Division\n",
    "a = int(input())\n",
    "b = int(input())\n",
    "print(a//b)\n",
    "print(a/b)"
   ]
  },
  {
   "cell_type": "code",
   "execution_count": 5,
   "id": "607f2613",
   "metadata": {},
   "outputs": [
    {
     "name": "stdout",
     "output_type": "stream",
     "text": [
      "6\n",
      "0\n",
      "1\n",
      "4\n",
      "9\n",
      "16\n",
      "25\n"
     ]
    }
   ],
   "source": [
    "# loops\n",
    "n = int(input())\n",
    "for i in range(n):\n",
    "    print(i**2)\n"
   ]
  },
  {
   "cell_type": "code",
   "execution_count": 39,
   "id": "463a8a90",
   "metadata": {},
   "outputs": [
    {
     "name": "stdout",
     "output_type": "stream",
     "text": [
      "2023\n",
      "False\n"
     ]
    }
   ],
   "source": [
    "# write a function\n",
    "def is_leap(year):\n",
    "    leap = False\n",
    "    \n",
    "    # Write your logic here\n",
    "    if year % 4 != 0:\n",
    "        return False\n",
    "    elif year %100!=0:\n",
    "        return True\n",
    "    elif year%400!=0:\n",
    "        return False\n",
    "    else:\n",
    "        return True\n",
    "    return leap\n",
    "\n",
    "year = int(input())\n",
    "print(is_leap(year))"
   ]
  },
  {
   "cell_type": "code",
   "execution_count": 41,
   "id": "1ed2d62f",
   "metadata": {},
   "outputs": [
    {
     "name": "stdout",
     "output_type": "stream",
     "text": [
      "5\n",
      "12345"
     ]
    }
   ],
   "source": [
    "# print function\n",
    "n = int(input())\n",
    "a=[]\n",
    "for i in range(1,n+1):\n",
    "    print(i, end=\"\")\n"
   ]
  },
  {
   "cell_type": "code",
   "execution_count": 43,
   "id": "0f03c19e",
   "metadata": {},
   "outputs": [
    {
     "name": "stdout",
     "output_type": "stream",
     "text": [
      "1\n",
      "1\n",
      "1\n",
      "2\n",
      "[[0, 0, 0], [0, 0, 1], [0, 1, 0], [1, 0, 0], [1, 1, 1]]\n"
     ]
    }
   ],
   "source": [
    "# List comprehensions\n",
    "x = int(input())\n",
    "y = int(input())\n",
    "z = int(input())\n",
    "n = int(input())\n",
    "a=[[i,j,k] for i in range(x+1) for j in range(y+1) for k in range(z+1)]\n",
    "b=[i for i in a if sum(i)!=n]\n",
    "    # print(a)\n",
    "print(b)"
   ]
  },
  {
   "cell_type": "code",
   "execution_count": 45,
   "id": "79202123",
   "metadata": {},
   "outputs": [
    {
     "name": "stdout",
     "output_type": "stream",
     "text": [
      "5\n",
      "2 3 7 7 5\n",
      "5\n"
     ]
    }
   ],
   "source": [
    "# Find the Runner-up Score!\n",
    "n = int(input())\n",
    "arr = map(int, input().split())\n",
    "    \n",
    "A=list(set(arr))\n",
    "A.sort(reverse=True)\n",
    "if len(A) > 1:\n",
    "    B = A[1]\n",
    "    print(B)\n",
    "else:\n",
    "    pass"
   ]
  },
  {
   "cell_type": "code",
   "execution_count": 47,
   "id": "4a887323",
   "metadata": {},
   "outputs": [
    {
     "name": "stdout",
     "output_type": "stream",
     "text": [
      "3\n",
      "a\n",
      "34.55\n",
      "b\n",
      "35.45\n",
      "c\n",
      "67.5\n",
      "b\n"
     ]
    }
   ],
   "source": [
    "# nested lists\n",
    "Result=[]\n",
    "scorelist=[]\n",
    "\n",
    "if __name__ == '__main__':\n",
    "    for _ in range(int(input())):\n",
    "        name = input()\n",
    "        score = float(input())\n",
    "        Result+=[[name,score]]\n",
    "        scorelist+=[score]\n",
    "    b=sorted(list(set(scorelist)))[1] \n",
    "    for a,c in sorted(Result):\n",
    "        if c==b:\n",
    "            print(a)\n"
   ]
  },
  {
   "cell_type": "code",
   "execution_count": 49,
   "id": "cbd85da5",
   "metadata": {},
   "outputs": [
    {
     "name": "stdout",
     "output_type": "stream",
     "text": [
      "3\n",
      "a 67 68 69\n",
      "b 70 98 63\n",
      "c 52 56 60\n",
      "c\n",
      "56.00\n"
     ]
    }
   ],
   "source": [
    "# finding the percentage\n",
    "if __name__ == '__main__':\n",
    "    n = int(input())\n",
    "    student_marks = {}\n",
    "    for i in range(n):\n",
    "        name, *line = input(\"\".format(i+1)).split()\n",
    "        scores = list(map(float, line))\n",
    "        student_marks[name] = scores\n",
    "    query_name = input()\n",
    "if query_name in student_marks:\n",
    "    avg_marks = sum(student_marks[query_name])/len(student_marks[query_name])\n",
    "    print(\"{:.2f}\".format(avg_marks))\n",
    "else:\n",
    "    pass"
   ]
  },
  {
   "cell_type": "code",
   "execution_count": 50,
   "id": "4bb60821",
   "metadata": {},
   "outputs": [
    {
     "name": "stdout",
     "output_type": "stream",
     "text": [
      "4\n",
      "insert 0 5\n",
      "print\n",
      "[5]\n",
      "insert 1 10\n",
      "print\n",
      "[5, 10]\n"
     ]
    }
   ],
   "source": [
    "# Lists\n",
    "N = int(input())\n",
    "b=[]\n",
    "for i in range(0,N):\n",
    "    A=input().split()\n",
    "    if A[0]==\"insert\":\n",
    "            b.insert(int(A[1]),int(A[2]))\n",
    "    elif A[0]==\"print\":\n",
    "            print(b)\n",
    "    elif A[0]==\"remove\":\n",
    "            b.remove(int(A[1]))\n",
    "    elif A[0]==\"append\":\n",
    "            b.append(int(A[1]))\n",
    "    elif A[0]==\"sort\":\n",
    "            b.sort()\n",
    "    elif A[0]==\"pop\":\n",
    "            b.pop()\n",
    "    elif A[0]==\"reverse\":\n",
    "            b.reverse()\n"
   ]
  },
  {
   "cell_type": "code",
   "execution_count": 3,
   "id": "d0cae71e",
   "metadata": {},
   "outputs": [
    {
     "name": "stdout",
     "output_type": "stream",
     "text": [
      "10\n",
      "2\n",
      "6909455589863252355\n"
     ]
    }
   ],
   "source": [
    "# Tuples\n",
    "n = int(input())\n",
    "integer_list = map(int, input().split())\n",
    "print(hash(tuple(integer_list)))\n"
   ]
  },
  {
   "cell_type": "code",
   "execution_count": 5,
   "id": "bc25e57f",
   "metadata": {},
   "outputs": [
    {
     "name": "stdout",
     "output_type": "stream",
     "text": [
      "Hello World!\n",
      "hELLO wORLD!\n"
     ]
    }
   ],
   "source": [
    "# sWAP cASE\n",
    "def swap_case(s):\n",
    "    ans=s.swapcase()\n",
    "    return ans\n",
    "s = input()\n",
    "result = swap_case(s)\n",
    "print(result)"
   ]
  },
  {
   "cell_type": "code",
   "execution_count": 6,
   "id": "82906ef5",
   "metadata": {},
   "outputs": [
    {
     "name": "stdout",
     "output_type": "stream",
     "text": [
      "this is a string\n",
      "this-is-a-string\n"
     ]
    }
   ],
   "source": [
    "# String Split and Join\n",
    "def split_and_join(line):\n",
    "    line=line.split(\" \")\n",
    "    line=\"-\".join(line)\n",
    "    return line\n",
    "\n",
    "line = input()\n",
    "result = split_and_join(line)\n",
    "print(result)"
   ]
  },
  {
   "cell_type": "code",
   "execution_count": 10,
   "id": "2ce8dbf5",
   "metadata": {},
   "outputs": [
    {
     "name": "stdout",
     "output_type": "stream",
     "text": [
      "Jeel\n",
      "VAGHANI\n",
      "Hello Jeel VAGHANI! You just delved into python.\n"
     ]
    }
   ],
   "source": [
    "# What's Your Name?\n",
    "def print_full_name(first, last):\n",
    "    for i in first:\n",
    "        len(i)<=10\n",
    "    for j in last:\n",
    "        len(j)<=10\n",
    "    a=print(f\"Hello {first} {last}! You just delved into python.\")\n",
    "    return a\n",
    "first_name = input()\n",
    "last_name = input()\n",
    "print_full_name(first_name, last_name)"
   ]
  },
  {
   "cell_type": "code",
   "execution_count": 14,
   "id": "c8310813",
   "metadata": {},
   "outputs": [
    {
     "name": "stdout",
     "output_type": "stream",
     "text": [
      "abracadabra\n",
      "5 k\n",
      "abrackdabra\n"
     ]
    }
   ],
   "source": [
    "# Mutations\n",
    "def mutate_string(string, position, character):\n",
    "    a=list(string)\n",
    "    a[position]=character\n",
    "    string=\"\".join(a)\n",
    "    return string\n",
    "\n",
    "\n",
    "s = input()\n",
    "i, c = input().split()\n",
    "s_new = mutate_string(s, int(i), c)\n",
    "print(s_new)"
   ]
  },
  {
   "cell_type": "code",
   "execution_count": 15,
   "id": "b6e36b56",
   "metadata": {},
   "outputs": [
    {
     "name": "stdout",
     "output_type": "stream",
     "text": [
      "ABCDCDC\n",
      "CDC\n",
      "2\n"
     ]
    }
   ],
   "source": [
    "# Find a String\n",
    "def count_substring(string, sub_string):\n",
    "    count=0\n",
    "    for i in range(0, len(string)-len(sub_string)+1):\n",
    "        if string[i] == sub_string[0]:\n",
    "            flag=1\n",
    "            for j in range (0, len(sub_string)):\n",
    "                if string[i+j] != sub_string[j]:\n",
    "                    flag=0\n",
    "                    break\n",
    "            if flag==1:\n",
    "                count += 1\n",
    "    return count\n",
    "\n",
    "\n",
    "string = input().strip()\n",
    "sub_string = input().strip()\n",
    "    \n",
    "count = count_substring(string, sub_string)\n",
    "print(count)"
   ]
  },
  {
   "cell_type": "code",
   "execution_count": 22,
   "id": "781f3a03",
   "metadata": {},
   "outputs": [
    {
     "name": "stdout",
     "output_type": "stream",
     "text": [
      "qA2\n",
      "True\n",
      "True\n",
      "True\n",
      "True\n",
      "True\n"
     ]
    }
   ],
   "source": [
    "# String Validators\n",
    "s = input()\n",
    "print(any(map(str.isalnum, s)))\n",
    "print(any(map(str.isalpha, s)))\n",
    "print(any(map(str.isdigit, s)))\n",
    "print(any(map(str.islower, s)))\n",
    "print(any(map(str.isupper, s)))"
   ]
  },
  {
   "cell_type": "code",
   "execution_count": 1,
   "id": "60a46fdc",
   "metadata": {},
   "outputs": [
    {
     "name": "stdout",
     "output_type": "stream",
     "text": [
      "5\n",
      "    H    \n",
      "   HHH   \n",
      "  HHHHH  \n",
      " HHHHHHH \n",
      "HHHHHHHHH\n",
      "  HHHHH               HHHHH             \n",
      "  HHHHH               HHHHH             \n",
      "  HHHHH               HHHHH             \n",
      "  HHHHH               HHHHH             \n",
      "  HHHHH               HHHHH             \n",
      "  HHHHH               HHHHH             \n",
      "  HHHHHHHHHHHHHHHHHHHHHHHHH   \n",
      "  HHHHHHHHHHHHHHHHHHHHHHHHH   \n",
      "  HHHHHHHHHHHHHHHHHHHHHHHHH   \n",
      "  HHHHH               HHHHH             \n",
      "  HHHHH               HHHHH             \n",
      "  HHHHH               HHHHH             \n",
      "  HHHHH               HHHHH             \n",
      "  HHHHH               HHHHH             \n",
      "  HHHHH               HHHHH             \n",
      "                    HHHHHHHHH \n",
      "                     HHHHHHH  \n",
      "                      HHHHH   \n",
      "                       HHH    \n",
      "                        H     \n"
     ]
    }
   ],
   "source": [
    "# Text Alignment\n",
    "thickness = int(input()) #This must be an odd number\n",
    "c = 'H'\n",
    "\n",
    "for i in range(thickness):\n",
    "    print((c*i).rjust(thickness-1)+c+(c*i).ljust(thickness-1))\n",
    "\n",
    "for i in range(thickness+1):\n",
    "    print((c*thickness).center(thickness*2)+(c*thickness).center(thickness*6))\n",
    "\n",
    "for i in range((thickness+1)//2):\n",
    "    print((c*thickness*5).center(thickness*6))    \n",
    "\n",
    "for i in range(thickness+1):\n",
    "    print((c*thickness).center(thickness*2)+(c*thickness).center(thickness*6))    \n",
    "\n",
    "for i in range(thickness):\n",
    "    print(((c*(thickness-i-1)).rjust(thickness)+c+(c*(thickness-i-1)).ljust(thickness)).rjust(thickness*6))\n"
   ]
  },
  {
   "cell_type": "code",
   "execution_count": 2,
   "id": "6b5c7812",
   "metadata": {},
   "outputs": [
    {
     "name": "stdout",
     "output_type": "stream",
     "text": [
      "ABCDEFGHIJKLIMNOQRSTUVWXYZ\n",
      "5\n",
      "ABCDE\n",
      "FGHIJ\n",
      "KLIMN\n",
      "OQRST\n",
      "UVWXY\n"
     ]
    }
   ],
   "source": [
    "# Text Wrap\n",
    "import textwrap\n",
    "\n",
    "def wrap(string, max_width):\n",
    "    for i in range(0,len(string)+1,max_width):\n",
    "        result = string[i:i+max_width]\n",
    "        if len(result) == max_width:\n",
    "            print(result)\n",
    "        else:\n",
    "            return(result)\n",
    "        \n",
    "\n",
    "if __name__ == '__main__':\n",
    "    string, max_width = input(), int(input())\n",
    "    result = wrap(string, max_width)\n"
   ]
  },
  {
   "cell_type": "code",
   "execution_count": 3,
   "id": "00769e3c",
   "metadata": {},
   "outputs": [
    {
     "name": "stdout",
     "output_type": "stream",
     "text": [
      "9 27\n",
      "------------.|.------------\n",
      "---------.|..|..|.---------\n",
      "------.|..|..|..|..|.------\n",
      "---.|..|..|..|..|..|..|.---\n",
      "----------WELCOME----------\n",
      "---.|..|..|..|..|..|..|.---\n",
      "------.|..|..|..|..|.------\n",
      "---------.|..|..|.---------\n",
      "------------.|.------------\n"
     ]
    }
   ],
   "source": [
    "# Designer Door Mat\n",
    "N, M = map(int, input().split())\n",
    "for i in range(1, N, 2):\n",
    "    print((i * \".|.\").center(M,\"-\"))\n",
    "print(\"WELCOME\".center(M, \"-\"))\n",
    "for i in range(N-2, -1, -2):\n",
    "    print((i * \".|.\").center(M, \"-\")) \n",
    "\n",
    "    "
   ]
  },
  {
   "cell_type": "code",
   "execution_count": 4,
   "id": "d7cc5e23",
   "metadata": {},
   "outputs": [
    {
     "name": "stdout",
     "output_type": "stream",
     "text": [
      "17\n",
      "    1     1     1     1\n",
      "    2     2     2    10\n",
      "    3     3     3    11\n",
      "    4     4     4   100\n",
      "    5     5     5   101\n",
      "    6     6     6   110\n",
      "    7     7     7   111\n",
      "    8    10     8  1000\n",
      "    9    11     9  1001\n",
      "   10    12     A  1010\n",
      "   11    13     B  1011\n",
      "   12    14     C  1100\n",
      "   13    15     D  1101\n",
      "   14    16     E  1110\n",
      "   15    17     F  1111\n",
      "   16    20    10 10000\n",
      "   17    21    11 10001\n"
     ]
    }
   ],
   "source": [
    "# String Formatting\n",
    "def print_formatted(number):\n",
    "    # your code goes here\n",
    "    width = len(bin(number)[2:])\n",
    "    for i in range(1, number+1):\n",
    "        a = str(i)\n",
    "        b = oct(i)[2:]\n",
    "        c = hex(i)[2:].upper()\n",
    "        d = bin(i)[2:]\n",
    "        print(a.rjust(width),b.rjust(width),c.rjust(width),d.rjust(width))\n",
    "if __name__ == '__main__':\n",
    "    n = int(input())\n",
    "    print_formatted(n)"
   ]
  },
  {
   "cell_type": "code",
   "execution_count": 8,
   "id": "f46f5917",
   "metadata": {},
   "outputs": [
    {
     "name": "stdout",
     "output_type": "stream",
     "text": [
      "5\n",
      "--------e--------\n",
      "------e-d-e------\n",
      "----e-d-c-d-e----\n",
      "--e-d-c-b-c-d-e--\n",
      "e-d-c-b-a-b-c-d-e\n",
      "--e-d-c-b-c-d-e--\n",
      "----e-d-c-d-e----\n",
      "------e-d-e------\n",
      "--------e--------\n"
     ]
    }
   ],
   "source": [
    "# Alphabet Rangoli\n",
    "def print_rangoli(size):\n",
    "    # your code goes here\n",
    "    import string\n",
    "    design = string.ascii_lowercase\n",
    "    L = []\n",
    "    for i in range(n):\n",
    "        s = \"-\".join(design[i:n])\n",
    "        L.append((s[::-1]+s[1:]).center(4*n-3, \"-\"))\n",
    "        \n",
    "    print('\\n'.join(L[:0:-1]+L))\n",
    "if __name__ == '__main__':\n",
    "    n = int(input())\n",
    "    print_rangoli(n)"
   ]
  },
  {
   "cell_type": "code",
   "execution_count": 21,
   "id": "48ef868f",
   "metadata": {},
   "outputs": [
    {
     "name": "stdout",
     "output_type": "stream",
     "text": [
      "BANANA\n",
      "Stuart 12\n"
     ]
    }
   ],
   "source": [
    "# The Minion Game\n",
    "def minion_game(string):\n",
    "    # your code goes here\n",
    "    vowel = 'aeiou'.upper()\n",
    "    strl = len(string)\n",
    "    kevin = sum(strl-i for i in range(strl) if string[i] in vowel)\n",
    "    stuart = strl*(strl + 1)/2 - kevin\n",
    "    if kevin == stuart:\n",
    "        print ('Draw')\n",
    "    elif kevin > stuart:\n",
    "        print ('Kevin %d' % kevin)\n",
    "    else:\n",
    "        print ('Stuart %d' % stuart)\n",
    "if __name__ == '__main__':\n",
    "    s = input()\n",
    "    minion_game(s)"
   ]
  },
  {
   "cell_type": "code",
   "execution_count": 26,
   "id": "a245937c",
   "metadata": {},
   "outputs": [
    {
     "name": "stdout",
     "output_type": "stream",
     "text": [
      "AABCAAADA\n",
      "3\n",
      "AB\n",
      "CA\n",
      "AD\n"
     ]
    }
   ],
   "source": [
    "# Merge the Tools!\n",
    "def merge_the_tools(string, k):\n",
    "    # your code goes here\n",
    "    temp = []\n",
    "    len_temp = 0\n",
    "    for item in string:\n",
    "        len_temp += 1\n",
    "        if item not in temp:\n",
    "            temp.append(item)\n",
    "        if len_temp == k:\n",
    "            print (''.join(temp))\n",
    "            temp = []\n",
    "            len_temp = 0\n",
    "if __name__ == '__main__':\n",
    "    string, k = input(), int(input())\n",
    "    merge_the_tools(string, k)"
   ]
  },
  {
   "cell_type": "code",
   "execution_count": 25,
   "id": "2511f5ec",
   "metadata": {},
   "outputs": [
    {
     "name": "stdout",
     "output_type": "stream",
     "text": [
      "1 2\n",
      "3 4\n",
      "(1, 3) (1, 4) (2, 3) (2, 4)\n"
     ]
    }
   ],
   "source": [
    "# itertools.product()\n",
    "# Enter your code here. Read input from STDIN. Print output to STDOUT\n",
    "from itertools import product \n",
    "a = map(int, input().split())\n",
    "b = map(int, input().split())\n",
    "print(*product(a, b))\n"
   ]
  },
  {
   "cell_type": "code",
   "execution_count": 29,
   "id": "db7f2c07",
   "metadata": {},
   "outputs": [
    {
     "name": "stdout",
     "output_type": "stream",
     "text": [
      "10\n",
      "2 3 4 5 6 8 7 6 5 18\n",
      "6\n",
      "6 55\n",
      "6 45\n",
      "6 55\n",
      "4 40\n",
      "18 60\n",
      "10 50\n",
      "200\n"
     ]
    }
   ],
   "source": [
    "# collections.Counter()\n",
    "# Enter your code here. Read input from STDIN. Print output to STDOUT\n",
    "from collections import Counter\n",
    "numShoes = int(input())\n",
    "shoes = Counter(map(int, input().split()))\n",
    "numCust = int(input())\n",
    "income = 0\n",
    "for i in range(numCust):\n",
    "    size, price = map(int, input().split())\n",
    "    if shoes[size]: \n",
    "        income += price\n",
    "        shoes[size] -= 1\n",
    "print(income)\n"
   ]
  },
  {
   "cell_type": "code",
   "execution_count": 28,
   "id": "7a6bcd1f",
   "metadata": {},
   "outputs": [
    {
     "name": "stdout",
     "output_type": "stream",
     "text": [
      "HACK 2\n",
      "AC\n",
      "AH\n",
      "AK\n",
      "CA\n",
      "CH\n",
      "CK\n",
      "HA\n",
      "HC\n",
      "HK\n",
      "KA\n",
      "KC\n",
      "KH\n"
     ]
    }
   ],
   "source": [
    "# itertools.permutations()\n",
    "# Enter your code here. Read input from STDIN. Print output to STDOUT\n",
    "from itertools import permutations\n",
    "string, length = input().split()\n",
    "output = [\"\".join(i) for i in permutations(string,int(length))]\n",
    "output.sort()\n",
    "print(\"\\n\".join(output))\n"
   ]
  },
  {
   "cell_type": "code",
   "execution_count": 30,
   "id": "73110bb6",
   "metadata": {},
   "outputs": [
    {
     "name": "stdout",
     "output_type": "stream",
     "text": [
      " 1+2j\n",
      "2.23606797749979\n",
      "1.1071487177940904\n"
     ]
    }
   ],
   "source": [
    "# polar Coordinates\n",
    "# Enter your code here. Read input from STDIN. Print output to STDOUT\n",
    "import cmath\n",
    "n = input()\n",
    "print(abs(complex(n)))\n",
    "print(cmath.phase(complex(n)))\n"
   ]
  },
  {
   "cell_type": "code",
   "execution_count": 31,
   "id": "86091d3e",
   "metadata": {},
   "outputs": [
    {
     "name": "stdout",
     "output_type": "stream",
     "text": [
      "10\n",
      "161 182 161 154 176 170 167 171 170 174\n",
      "169.375\n"
     ]
    }
   ],
   "source": [
    "# Introduction to Sets\n",
    "def average(array):\n",
    "    # your code goes here\n",
    "     array = set(array)\n",
    "     return sum(array) / len(array)\n",
    "if __name__ == '__main__':\n",
    "    n = int(input())\n",
    "    arr = list(map(int, input().split()))\n",
    "    result = average(arr)\n",
    "    print(result)"
   ]
  },
  {
   "cell_type": "code",
   "execution_count": 33,
   "id": "27c25294",
   "metadata": {},
   "outputs": [
    {
     "name": "stdout",
     "output_type": "stream",
     "text": [
      "5 2\n",
      "a\n",
      "a\n",
      "b\n",
      "a\n",
      "b\n",
      "a\n",
      "1 2 4\n",
      "b\n",
      "3 5\n"
     ]
    }
   ],
   "source": [
    "# DefaultDict Tutorial\n",
    "# Enter your code here. Read input from STDIN. Print output to STDOUT\\\n",
    "from collections import defaultdict\n",
    "d = defaultdict(list)\n",
    "n, m = map(int, input().split())\n",
    "for i in range(n):\n",
    "    d[input()].append(str(i + 1))\n",
    "for j in range(m):\n",
    "    print(' '.join(d[input()]) or -1)\n"
   ]
  },
  {
   "cell_type": "code",
   "execution_count": 32,
   "id": "33c11423",
   "metadata": {},
   "outputs": [
    {
     "name": "stdout",
     "output_type": "stream",
     "text": [
      "08 05 2015\n",
      "WEDNESDAY\n"
     ]
    }
   ],
   "source": [
    "# Calendar Module\n",
    "# Enter your code here. Read input from STDIN. Print output to STDOUT\n",
    "import datetime\n",
    "import calendar\n",
    "m, d, y = map(int, input().split())\n",
    "input_date = datetime.date(y, m, d)\n",
    "print(calendar.day_name[input_date.weekday()].upper())\n"
   ]
  },
  {
   "cell_type": "code",
   "execution_count": 40,
   "id": "f09d5643",
   "metadata": {},
   "outputs": [
    {
     "name": "stdout",
     "output_type": "stream",
     "text": [
      "3\n",
      "ID         MARKS      NAME       CLASS\n",
      "1          97         Raymond    7\n",
      "2          50         Steven     4\n",
      "3          91         Adrian     9\n",
      "79.33\n"
     ]
    }
   ],
   "source": [
    "# Collections.namedtuple()\n",
    "# Enter your code here. Read input from STDIN. Print output to STDOUT\n",
    "from collections import namedtuple\n",
    "n=int(input())\n",
    "fields = input().split()\n",
    "total_marks = 0\n",
    "for _ in range(n):\n",
    "    students = namedtuple('student', fields)\n",
    "    MARKS, CLASS, NAME, ID = input().split()\n",
    "    student = students(MARKS, CLASS, NAME, ID)\n",
    "    total_marks += int(student.MARKS)\n",
    "print('{:.2f}'.format(total_marks / n))\n"
   ]
  },
  {
   "cell_type": "code",
   "execution_count": 17,
   "id": "e6d9349c",
   "metadata": {},
   "outputs": [
    {
     "name": "stdout",
     "output_type": "stream",
     "text": [
      "10\n",
      "10\n",
      "45°\n"
     ]
    }
   ],
   "source": [
    "# Find Angle MBC\n",
    "\n",
    "import math\n",
    "ab = int(input())\n",
    "bc = int(input())\n",
    "ca=math.hypot(ab,bc)\n",
    "mc=ca/2\n",
    "bca=math.asin(1*ab/ca)\n",
    "bm=math.sqrt((bc**2+mc**2)-(2*bc*mc*math.cos(bca)))\n",
    "mbc=math.asin(math.sin(bca)*mc/bm)\n",
    "print(int(round(math.degrees(mbc),0)),'\\u00B0',sep='')\n"
   ]
  },
  {
   "cell_type": "code",
   "execution_count": null,
   "id": "dbf241f4",
   "metadata": {},
   "outputs": [],
   "source": []
  }
 ],
 "metadata": {
  "kernelspec": {
   "display_name": "Python 3 (ipykernel)",
   "language": "python",
   "name": "python3"
  },
  "language_info": {
   "codemirror_mode": {
    "name": "ipython",
    "version": 3
   },
   "file_extension": ".py",
   "mimetype": "text/x-python",
   "name": "python",
   "nbconvert_exporter": "python",
   "pygments_lexer": "ipython3",
   "version": "3.10.7"
  }
 },
 "nbformat": 4,
 "nbformat_minor": 5
}
