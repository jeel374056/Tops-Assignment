{
 "cells": [
  {
   "cell_type": "code",
   "execution_count": 6,
   "id": "3b60b1be",
   "metadata": {},
   "outputs": [
    {
     "name": "stdout",
     "output_type": "stream",
     "text": [
      "Enter a Number : 0\n",
      "A = 0 is zero\n"
     ]
    }
   ],
   "source": [
    "# 1)Write a Python program to check if a number is positive, negative or zero.\n",
    "A = int(input(\"Enter a Number : \"))\n",
    "if A>0:\n",
    "    print(f\"A = {A} is a positive number\")\n",
    "elif A<0:\n",
    "    print(f\"A = {A} is a negative number\")\n",
    "else:\n",
    "    print(f\"A = {A} is zero\")"
   ]
  },
  {
   "cell_type": "code",
   "execution_count": 8,
   "id": "fc9cd537",
   "metadata": {},
   "outputs": [
    {
     "name": "stdout",
     "output_type": "stream",
     "text": [
      "enter the number : 5\n",
      "5*4*3*2*1=120\n",
      "The factorial of 5 is 120\n"
     ]
    }
   ],
   "source": [
    "# 2)Write a Python program to get the Factorial number of given number.\n",
    "a = int(input(\"enter the number : \"))\n",
    "b=1\n",
    "for i in range(a,0,-1):\n",
    "    print(i,end=\"*\")\n",
    "    b=b*i\n",
    "print(f\"\\b={b}\")\n",
    "print(f\"The factorial of {a} is {b}\")"
   ]
  },
  {
   "cell_type": "code",
   "execution_count": 2,
   "id": "638fa8c9",
   "metadata": {},
   "outputs": [
    {
     "name": "stdout",
     "output_type": "stream",
     "text": [
      "Enter a number : 8\n",
      "0 1 1 2 3 5 8 13 "
     ]
    }
   ],
   "source": [
    "# 3)Write a Python program to get the Fibonacci series of given range.\n",
    "A=int(input(\"Enter a number : \"))\n",
    "B=0\n",
    "C=1\n",
    "D=0\n",
    "print(B,C,end=\" \")\n",
    "for i in range(2,A):\n",
    "    if A>=0:\n",
    "        D=B+C\n",
    "        B=C\n",
    "        C=D\n",
    "        print(D,end=\" \")\n",
    "    else:\n",
    "        pass"
   ]
  },
  {
   "cell_type": "code",
   "execution_count": null,
   "id": "d4fc8823",
   "metadata": {},
   "outputs": [],
   "source": [
    "# 4)How memory is managed in Python?\n",
    "#--> Memory in Python is managed by Python private heap space. All Python objects and data structures are located\n",
    "# in a private heap. This private heap is taken care of by Python Interpreter itself, and a programmer doesn’t have\n",
    "# access to this private heap.\n",
    "#--> Python memory manager takes care of the allocation of Python private heap space.\n",
    "#--> Memory for Python private heap space is made available by Python’s in-built garbage collector, which recycles \n",
    "# and frees up all the unused memory."
   ]
  },
  {
   "cell_type": "code",
   "execution_count": null,
   "id": "538c8f9c",
   "metadata": {},
   "outputs": [],
   "source": [
    "# 5)What is the purpose continue statement in python?\n",
    "# The continue keyword is used to end the current iteration in a for loop (or a while loop), and continues to the\n",
    "# next iteration."
   ]
  },
  {
   "cell_type": "code",
   "execution_count": 3,
   "id": "a3e464b3",
   "metadata": {},
   "outputs": [
    {
     "name": "stdout",
     "output_type": "stream",
     "text": [
      "The value of A before swapping is A=18\n",
      "The value of A After swapping : 50\n",
      "The value of B before swapping is B=50\n",
      "The value of B After swapping : 18\n"
     ]
    }
   ],
   "source": [
    "# 6)Write python program that swap two number with temp variable and without temp variable.\n",
    "A=18\n",
    "B=50\n",
    "C=f\"The value of A before swapping is A={A}\"\n",
    "D=f\"The value of B before swapping is B={B}\"\n",
    "temp=A\n",
    "A=B\n",
    "B=temp\n",
    "print(C)\n",
    "print(\"The value of A After swapping :\",A)\n",
    "print(D)\n",
    "print(\"The value of B After swapping :\",B)"
   ]
  },
  {
   "cell_type": "code",
   "execution_count": 4,
   "id": "46bea6ef",
   "metadata": {},
   "outputs": [
    {
     "name": "stdout",
     "output_type": "stream",
     "text": [
      "enter the number : 5\n",
      "odd\n"
     ]
    }
   ],
   "source": [
    "# 7)Write a Python program to find whether a given number is even or odd, print out an appropriate message to the \n",
    "# user.\n",
    "a = int(input(\"enter the number : \"))\n",
    "if a%2==0:\n",
    "    print(\"even\")\n",
    "else:\n",
    "    print(\"odd\")"
   ]
  },
  {
   "cell_type": "code",
   "execution_count": 11,
   "id": "09c0cecc",
   "metadata": {},
   "outputs": [
    {
     "name": "stdout",
     "output_type": "stream",
     "text": [
      "enter the alphabet:a\n",
      "entered string is a vowel.\n"
     ]
    }
   ],
   "source": [
    "# 8)Write a Python program to test whether a passed letter is a vowel or not.\n",
    "A=input(\"enter the alphabet:\")\n",
    "B=\"aeiouAEIOU\"\n",
    "\n",
    "if A in B:\n",
    "    print(\"entered string is a vowel.\")\n",
    "else:\n",
    "    print(\"entered string is not a vowel\")"
   ]
  },
  {
   "cell_type": "code",
   "execution_count": 3,
   "id": "8f52f220",
   "metadata": {},
   "outputs": [
    {
     "name": "stdout",
     "output_type": "stream",
     "text": [
      "enter the value of A :22\n",
      "enter the value of B :13\n",
      "enter the value of C :22\n",
      "22+13+22=0 ---> more than two values are same.\n"
     ]
    }
   ],
   "source": [
    "# 9)Write a Python program to sum of three given integers. However, if two values are equal sum will be zero.\n",
    "A=int(input(\"enter the value of A :\"))\n",
    "B=int(input(\"enter the value of B :\"))\n",
    "C=int(input(\"enter the value of C :\"))\n",
    "if A==B or A==C or B==C :\n",
    "    print(f\"{A}+{B}+{C}=0 ---> more than two values are same.\")\n",
    "else:\n",
    "    print(f\"{A}+{B}+{C}\\n\",A+B+C)"
   ]
  },
  {
   "cell_type": "code",
   "execution_count": 5,
   "id": "70fc25ef",
   "metadata": {},
   "outputs": [
    {
     "name": "stdout",
     "output_type": "stream",
     "text": [
      "enter the value of A :2\n",
      "enter the value of B :3\n",
      "condition true 2 .\n"
     ]
    }
   ],
   "source": [
    "# 10)Write a Python program that will return true if the two given integer values are equal\n",
    "# or their sum or difference is 5.\n",
    "A=int(input(\"enter the value of A :\"))\n",
    "B=int(input(\"enter the value of B :\"))\n",
    "if A==B:\n",
    "    print(\"condition true 1 .\")\n",
    "elif A+B==5:\n",
    "    print(\"condition true 2 .\")\n",
    "elif A-B==5:\n",
    "    print(\"condition true 3 .\")\n",
    "else:\n",
    "    pass"
   ]
  },
  {
   "cell_type": "code",
   "execution_count": 1,
   "id": "4ff7e85e",
   "metadata": {},
   "outputs": [
    {
     "name": "stdout",
     "output_type": "stream",
     "text": [
      "Enter a positive number :4\n",
      "10\n"
     ]
    }
   ],
   "source": [
    "# 11)Write a python program to sum of the first n positive integers.\n",
    "A=int(input(\"Enter a positive number :\"))\n",
    "B=0\n",
    "for i in range(1, A+1):\n",
    "    B += i\n",
    "print(B)"
   ]
  },
  {
   "cell_type": "code",
   "execution_count": 2,
   "id": "2d4da994",
   "metadata": {},
   "outputs": [
    {
     "name": "stdout",
     "output_type": "stream",
     "text": [
      "Hello Python , My name is Vaghani Jeel .\n",
      "40\n"
     ]
    }
   ],
   "source": [
    "# 12)Write a Python program to calculate the length of a string.\n",
    "A = \"Hello Python , My name is Vaghani Jeel .\"\n",
    "print(A)\n",
    "print(len(A))"
   ]
  },
  {
   "cell_type": "code",
   "execution_count": 4,
   "id": "492d2be2",
   "metadata": {},
   "outputs": [
    {
     "name": "stdout",
     "output_type": "stream",
     "text": [
      "{'H': 1, 'e': 4, 'l': 3, 'o': 2, ' ': 8, 'P': 1, 'y': 2, 't': 1, 'h': 2, 'n': 3, ',': 1, 'M': 1, 'a': 3, 'm': 1, 'i': 2, 's': 1, 'V': 1, 'g': 1, 'J': 1, '.': 1}\n"
     ]
    }
   ],
   "source": [
    "# 13)Write a Python program to count the number of characters (character frequency) in a string\n",
    "A=\"Hello Python , My name is Vaghani Jeel .\"\n",
    "s={}\n",
    "for i in A:\n",
    "    if i in s:\n",
    "        s[i]+=1\n",
    "    else:\n",
    "        s[i]=1\n",
    "print(s)"
   ]
  },
  {
   "cell_type": "code",
   "execution_count": null,
   "id": "c3e0ffb1",
   "metadata": {},
   "outputs": [],
   "source": [
    "# 14)What are negative indexes and why are they used?\n",
    "# Negative indices are powers (also called exponents) with a minus sign in front of them. E.g. x−2. 3−4.\n",
    "# Negative Indexing is used to in Python to begin slicing from the end of the string i.e. the last."
   ]
  },
  {
   "cell_type": "code",
   "execution_count": 2,
   "id": "997e316d",
   "metadata": {},
   "outputs": [
    {
     "name": "stdout",
     "output_type": "stream",
     "text": [
      "4\n",
      "2\n",
      "3\n"
     ]
    }
   ],
   "source": [
    "# 15)Write a Python program to count occurrences of a substring in a string.\n",
    "A=\"Hello Python , My name is Vaghani Jeel .\"\n",
    "print(A.count(\"e\"))\n",
    "print(A.count(\"o\"))\n",
    "print(A.count(\"a\"))"
   ]
  },
  {
   "cell_type": "code",
   "execution_count": 18,
   "id": "4e6ef9b4",
   "metadata": {},
   "outputs": [
    {
     "name": "stdout",
     "output_type": "stream",
     "text": [
      "my  : 3\n",
      "name  : 2\n",
      "is  : 3\n",
      "jeel  : 1\n",
      ".  : 1\n",
      "course  : 2\n",
      "data  : 1\n",
      "analytics  : 1\n",
      "and  : 1\n",
      "length  : 1\n",
      "5  : 1\n",
      "to  : 1\n",
      "6  : 1\n",
      "months.  : 1\n"
     ]
    }
   ],
   "source": [
    "# 16)Write a Python program to count the occurrences of each word in a given sentence\n",
    "A=\"My name is Jeel . My course name is Data Analytics and my course length is 5 to 6 months.\"\n",
    "b=dict()\n",
    "B=A.lower()\n",
    "C=B.split(\" \")\n",
    "for i in C:\n",
    "    if i in b:\n",
    "        b[i]=b[i]+1\n",
    "    else:\n",
    "        b[i]=1\n",
    "    \n",
    "for a in list(b.keys()):\n",
    "    print(a,\" :\",b[a])"
   ]
  },
  {
   "cell_type": "code",
   "execution_count": 42,
   "id": "101710c3",
   "metadata": {},
   "outputs": [
    {
     "name": "stdout",
     "output_type": "stream",
     "text": [
      "String before swaping:  hello python   python is good\n",
      "String after swapimg:  pyllo python   hethon is good\n"
     ]
    }
   ],
   "source": [
    "# 17)Write a Python program to get a single string from two given strings, separated by a space and swap the first\n",
    "# two characters of each string.\n",
    "A=\"hello python\"\n",
    "B=\"python is good\"\n",
    "\n",
    "print(\"String before swaping: \",A,\" \",B)\n",
    "C= B[0:2] +A[2:13]\n",
    "D=A[0:2]+B[2:15]\n",
    "\n",
    "print(\"String after swapimg: \",C,\" \",D)"
   ]
  },
  {
   "cell_type": "code",
   "execution_count": 51,
   "id": "0a3d0192",
   "metadata": {},
   "outputs": [
    {
     "name": "stdout",
     "output_type": "stream",
     "text": [
      "Enter a string:going\n",
      "Entered string : going\n",
      "length of the string : 5\n",
      "goingly\n"
     ]
    }
   ],
   "source": [
    "# 18)Write a Python program to add 'ing' at the end of a given string (length should be at least 3). If the given \n",
    "# string already ends with 'ing' then add 'ly' instead if the string length of the given string is less than 3, \n",
    "# leave it unchanged.\n",
    "A=input(\"Enter a string:\")\n",
    "print(\"Entered string :\",A)\n",
    "B=len(A)\n",
    "print(\"length of the string :\",B)\n",
    "if B>2:\n",
    "    if A[-3:]==\"ing\":\n",
    "        A += \"ly\"\n",
    "    else:\n",
    "        A += \"ing\"\n",
    "print(A)"
   ]
  },
  {
   "cell_type": "code",
   "execution_count": 65,
   "id": "ae6a8a9d",
   "metadata": {},
   "outputs": [
    {
     "name": "stdout",
     "output_type": "stream",
     "text": [
      "Enter a string :c is not always poor\n",
      "c is good\n"
     ]
    }
   ],
   "source": [
    "# 19)Write a Python program to find the first appearance of the substring 'not' and 'poor' from a given string,\n",
    "# if 'not' follows the 'poor', replace the whole 'not'...'poor' substring with 'good'. Return the resulting string.\n",
    "A=input(\"Enter a string :\")\n",
    "snot = A.find('not')\n",
    "spoor = A.find('poor')\n",
    "  \n",
    "\n",
    "if spoor > snot and snot>0 and spoor>0:\n",
    "    A = A.replace(A[snot:(spoor+4)], 'good')\n",
    "    print(A)\n",
    "else:\n",
    "    print(A)"
   ]
  },
  {
   "cell_type": "code",
   "execution_count": 14,
   "id": "edcb315a",
   "metadata": {},
   "outputs": [
    {
     "name": "stdout",
     "output_type": "stream",
     "text": [
      "enter a string : hello my name is Vaghani jeel\n",
      "['hello', 'my', 'name', 'is', 'Vaghani', 'jeel']\n",
      "Length of longest word : 7\n",
      "Word with longest length: Vaghani\n"
     ]
    }
   ],
   "source": [
    "# 20)Write a Python function that takes a list of words and returns the length of the longest one.\n",
    "a=input(\"enter a string : \")\n",
    "A=a.split(\" \")\n",
    "print(A)\n",
    "b = []\n",
    "for n in A:\n",
    "    b.append((len(n),n))\n",
    "b.sort()\n",
    "print(\"Length of longest word :\",b[-1][0]) \n",
    "print(\"Word with longest length:\",b[-1][1])"
   ]
  },
  {
   "cell_type": "code",
   "execution_count": 1,
   "id": "7e24e044",
   "metadata": {},
   "outputs": [
    {
     "name": "stdout",
     "output_type": "stream",
     "text": [
      "enter a string : exercise\n",
      "esicrexe\n"
     ]
    }
   ],
   "source": [
    "# 21)Write a Python function to reverses a string if its length is a multiple of 4.\n",
    "a=input(\"enter a string : \")\n",
    "if len(a) % 4 == 0:\n",
    "    print(a[-1::-1])\n",
    "else:\n",
    "    print(a)"
   ]
  },
  {
   "cell_type": "code",
   "execution_count": 38,
   "id": "c832b036",
   "metadata": {},
   "outputs": [
    {
     "name": "stdout",
     "output_type": "stream",
     "text": [
      "enter a string :hello python\n",
      "heon\n"
     ]
    }
   ],
   "source": [
    "# 22)Write a Python program to get a string made of the first 2 and the last 2 chars from a given a string. \n",
    "# If the string length is less than 2, return instead of the empty string.\n",
    "A=input(\"enter a string :\")\n",
    "B=\"\"\n",
    "if len(A)<2:\n",
    "    print(B)\n",
    "else:\n",
    "    print(A[0:2] + A[-2:])\n"
   ]
  },
  {
   "cell_type": "code",
   "execution_count": 46,
   "id": "20f96552",
   "metadata": {},
   "outputs": [
    {
     "name": "stdout",
     "output_type": "stream",
     "text": [
      "enter a string :hello python is good\n",
      "hello python is good\n",
      "['hello', 'python', 'is', 'good']\n",
      "['hello', 'python', 'very', 'is', 'good']\n",
      "hello python very is good\n"
     ]
    }
   ],
   "source": [
    "# 23)Write a Python function to insert a string in the middle of a string.\n",
    "A=input(\"enter a string :\")\n",
    "print(A)\n",
    "B=A.split()\n",
    "print(B)\n",
    "B.insert(2,\"very\")\n",
    "print(B)\n",
    "C=\" \".join(B)\n",
    "print(C)"
   ]
  },
  {
   "cell_type": "code",
   "execution_count": null,
   "id": "9662fd43",
   "metadata": {},
   "outputs": [],
   "source": []
  }
 ],
 "metadata": {
  "kernelspec": {
   "display_name": "Python 3 (ipykernel)",
   "language": "python",
   "name": "python3"
  },
  "language_info": {
   "codemirror_mode": {
    "name": "ipython",
    "version": 3
   },
   "file_extension": ".py",
   "mimetype": "text/x-python",
   "name": "python",
   "nbconvert_exporter": "python",
   "pygments_lexer": "ipython3",
   "version": "3.10.7"
  }
 },
 "nbformat": 4,
 "nbformat_minor": 5
}
