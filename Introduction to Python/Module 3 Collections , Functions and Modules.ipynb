{
 "cells": [
  {
   "cell_type": "code",
   "execution_count": 1,
   "id": "7d5162a0",
   "metadata": {},
   "outputs": [
    {
     "name": "stdout",
     "output_type": "stream",
     "text": [
      "[5, 4, 3, 2, 1]\n"
     ]
    }
   ],
   "source": [
    "# 1)What is List? How will you reverse a list?\n",
    "#--> a list is a data structure that contains an ordered sequence of elements.\n",
    "a=[1,2,3,4,5]\n",
    "b= a[::-1]\n",
    "print(b)"
   ]
  },
  {
   "cell_type": "code",
   "execution_count": 2,
   "id": "85cd097d",
   "metadata": {},
   "outputs": [
    {
     "name": "stdout",
     "output_type": "stream",
     "text": [
      "[2, 33, 222, 14, 25]\n",
      "[2, 33, 222, 14]\n"
     ]
    }
   ],
   "source": [
    "# 2)How will you remove last object from a list?\n",
    "# Suppose list1 is [2, 33, 222, 14, and 25], what is list1 [-1]?\n",
    "#--> By using pop() method the last character of list will remove.\n",
    "A = [2, 33, 222, 14, 25]\n",
    "print(A)\n",
    "A.pop()\n",
    "print(A)\n"
   ]
  },
  {
   "cell_type": "code",
   "execution_count": 3,
   "id": "eb890a2c",
   "metadata": {},
   "outputs": [
    {
     "name": "stdout",
     "output_type": "stream",
     "text": [
      "[1, 2, 3, 4]\n",
      "[1, 2, 3, 4, 5]\n"
     ]
    }
   ],
   "source": [
    "# 3)Differentiate between append () and extend () methods?\n",
    "#--> The append() method is used to add a single element to the end of a list. \n",
    "#--> The element can be of any data type, including integers, strings, or even other lists.\n",
    "A = [1, 2, 3]\n",
    "A.append(4)\n",
    "print(A)\n",
    "#--> The extend() method, on the other hand, is used to add multiple elements to a list,\n",
    "# usually by combining two or more lists. The argument to extend() must be an iterable,\n",
    "# such as a list or a tuple, containing one or more elements to be added to the end of\n",
    "# the list. \n",
    "B=[1,2,3]\n",
    "B.extend([4,5])\n",
    "print(B)"
   ]
  },
  {
   "cell_type": "code",
   "execution_count": 4,
   "id": "b8b16a0b",
   "metadata": {},
   "outputs": [
    {
     "name": "stdout",
     "output_type": "stream",
     "text": [
      "35\n",
      "1\n",
      "116\n"
     ]
    }
   ],
   "source": [
    "# 4)Write a Python function to get the largest number, smallest num and sum of all from \n",
    "# a list.\n",
    "def A(list1):\n",
    "    print(max(list1))\n",
    "    print(min(list1))\n",
    "    print(sum(list1))\n",
    "\n",
    "a=[1,32,2,7,35,27,9,3]\n",
    "A(a)"
   ]
  },
  {
   "cell_type": "code",
   "execution_count": 5,
   "id": "e29ba54c",
   "metadata": {},
   "outputs": [
    {
     "name": "stdout",
     "output_type": "stream",
     "text": [
      "Both list are different\n"
     ]
    }
   ],
   "source": [
    "# 5)How will you compare two lists?\n",
    "A=[1,2,3,4,5]\n",
    "B=[1,2,3,4,5,6,7,8]\n",
    "\n",
    "if len(A)==len(B):\n",
    "    print(\"Both list are equals.\")\n",
    "else:\n",
    "    print(\"Both list are different\")"
   ]
  },
  {
   "cell_type": "code",
   "execution_count": 6,
   "id": "5c7ee6c0",
   "metadata": {},
   "outputs": [
    {
     "name": "stdout",
     "output_type": "stream",
     "text": [
      "3\n"
     ]
    }
   ],
   "source": [
    "# 6)Write a Python program to count the number of strings where the string\n",
    "# length is 2 or more and the first and last character are same from a given\n",
    "# list of strings.\n",
    "\n",
    "A=[\"hello\",\"demo\",\"mam\",\"dad\",\"coc\"]\n",
    "B=[]\n",
    "for i in A:\n",
    "    if len(i) > 2 and i[0]==i[-1]:\n",
    "        B.append(i)\n",
    "print(len(B))\n"
   ]
  },
  {
   "cell_type": "code",
   "execution_count": 7,
   "id": "a66ac8f9",
   "metadata": {},
   "outputs": [
    {
     "name": "stdout",
     "output_type": "stream",
     "text": [
      "[1, 2, 3, 4, 5, 6, 7, 8]\n"
     ]
    }
   ],
   "source": [
    "# 7)Write a Python program to remove duplicates from a list.\n",
    "A=[1,2,4,5,2,8,3,7,8,3,1,6,8]\n",
    "B=set(A)\n",
    "print(list(B))\n"
   ]
  },
  {
   "cell_type": "code",
   "execution_count": 8,
   "id": "a6f5f564",
   "metadata": {},
   "outputs": [
    {
     "name": "stdout",
     "output_type": "stream",
     "text": [
      "List is empty.\n"
     ]
    }
   ],
   "source": [
    "# 8)Write a Python program to check a list is empty or not.\n",
    "A=[]\n",
    "if  not  A:\n",
    "    print(\"List is empty.\")\n",
    "else:\n",
    "    print(\"List is not empty.\")"
   ]
  },
  {
   "cell_type": "code",
   "execution_count": 9,
   "id": "b46dbb69",
   "metadata": {},
   "outputs": [
    {
     "data": {
      "text/plain": [
       "False"
      ]
     },
     "execution_count": 9,
     "metadata": {},
     "output_type": "execute_result"
    }
   ],
   "source": [
    "# 9)Write a Python function that takes two lists and returns true if they have\n",
    "# at least one common member.\n",
    "def A(a,b):\n",
    "    for i in a:\n",
    "        if i in b:\n",
    "            return True\n",
    "    return False\n",
    "\n",
    "a=[1,2,3]\n",
    "b=[4,5]\n",
    "A(a,b)\n"
   ]
  },
  {
   "cell_type": "code",
   "execution_count": 10,
   "id": "96f552ed",
   "metadata": {},
   "outputs": [
    {
     "name": "stdout",
     "output_type": "stream",
     "text": [
      "[1, 4, 9, 16, 25, 36, 49, 64, 81, 100, 121, 144, 169, 196, 225, 256, 289, 324, 361, 400, 441, 484, 529, 576, 625, 676, 729, 784, 841, 900]\n",
      "[1, 4, 9, 16, 25]\n",
      "[676, 729, 784, 841, 900]\n"
     ]
    }
   ],
   "source": [
    "# 10)Write a Python program to generate and print a list of first and last 5\n",
    "# elements where the values are square of numbers between 1 and 30.\n",
    "A=[a**2 for a in range(1,31)]\n",
    "print(A)\n",
    "print(A[:5])\n",
    "print(A[-5:])"
   ]
  },
  {
   "cell_type": "code",
   "execution_count": 11,
   "id": "5ed0e61e",
   "metadata": {},
   "outputs": [
    {
     "name": "stdout",
     "output_type": "stream",
     "text": [
      "[1, 2, 3, 4, 5, 6, 8, 10]\n"
     ]
    }
   ],
   "source": [
    "# 11)Write a Python function that takes a list and returns a new list with unique\n",
    "# elements of the first list.\n",
    "def A(a):\n",
    "    b=list(set(a))\n",
    "    print(b)\n",
    "            \n",
    "            \n",
    "a=[1,4,2,5,2,5,6,2,3,6,8,3,10,3]\n",
    "A(a)"
   ]
  },
  {
   "cell_type": "code",
   "execution_count": 12,
   "id": "7ea17aed",
   "metadata": {},
   "outputs": [
    {
     "name": "stdout",
     "output_type": "stream",
     "text": [
      "Hello my name is jeel \n"
     ]
    }
   ],
   "source": [
    "# 12)Write a Python program to convert a list of characters into a string.\n",
    "A=['H', 'e', 'l', 'l', 'o', ' ', 'm', 'y', ' ', 'n', 'a', 'm', 'e', ' ', 'i', 's', ' ', 'j', 'e', 'e', 'l', ' ']\n",
    "a=\"\".join(A)\n",
    "print(a)"
   ]
  },
  {
   "cell_type": "code",
   "execution_count": 13,
   "id": "a48a0860",
   "metadata": {},
   "outputs": [
    {
     "name": "stdout",
     "output_type": "stream",
     "text": [
      "hello\n"
     ]
    }
   ],
   "source": [
    "# 13)Write a Python program to select an item randomly from a list.\n",
    "import random\n",
    "A=[1,2,3,5,6,56,\"hello\",\"good\",\"python\",\"coding\"]\n",
    "B=random.choice(A)\n",
    "print(B)"
   ]
  },
  {
   "cell_type": "code",
   "execution_count": 14,
   "id": "16c24cc5",
   "metadata": {},
   "outputs": [
    {
     "name": "stdout",
     "output_type": "stream",
     "text": [
      "[1, 2, 3, 10, 15, 28, 43]\n",
      "2\n"
     ]
    }
   ],
   "source": [
    "# 14)Write a Python program to find the second smallest number in a list.\n",
    "A=[1,43,2,15,10,3,28]\n",
    "A.sort()\n",
    "print(A)\n",
    "print(A[1])"
   ]
  },
  {
   "cell_type": "code",
   "execution_count": 15,
   "id": "dd4ce330",
   "metadata": {},
   "outputs": [
    {
     "name": "stdout",
     "output_type": "stream",
     "text": [
      "[1, 2, 3, 4, 5, 6, 8, 10]\n"
     ]
    }
   ],
   "source": [
    "# 15)Write a Python program to get unique values from a list\n",
    "a=[1,4,2,5,2,5,6,2,3,6,8,3,10,3]\n",
    "B=list(set(a))\n",
    "print(B)"
   ]
  },
  {
   "cell_type": "code",
   "execution_count": 16,
   "id": "a6cdbafd",
   "metadata": {},
   "outputs": [
    {
     "name": "stdout",
     "output_type": "stream",
     "text": [
      "[8, 3, 10] --> this is the sub list \n"
     ]
    }
   ],
   "source": [
    "# 16)Write a Python program to check whether a list contains a sub list\n",
    "A=[1,4,2,5,2,5,6,2,3,6,[8,3,10],3]\n",
    "for i in A:\n",
    "    if type(i)!=int:\n",
    "        print(i,\"--> this is the sub list \")\n"
   ]
  },
  {
   "cell_type": "code",
   "execution_count": 17,
   "id": "5bf202bb",
   "metadata": {},
   "outputs": [
    {
     "name": "stdout",
     "output_type": "stream",
     "text": [
      "B= [1, 2, 3]\n",
      "C= [4, 5, 6, 7]\n",
      "D= [8, 9, 10, 11, 12]\n"
     ]
    }
   ],
   "source": [
    "# 17)Write a Python program to split a list into different variables.\n",
    "A=[1,2,3,4,5,6,7,8,9,10,11,12]\n",
    "B=A[0:3]\n",
    "C=A[3:7]\n",
    "D=A[7:]\n",
    "print(\"B=\",B)\n",
    "print(\"C=\",C)\n",
    "print(\"D=\",D)"
   ]
  },
  {
   "cell_type": "code",
   "execution_count": 18,
   "id": "d6f41191",
   "metadata": {},
   "outputs": [],
   "source": [
    "# 18)What is tuple? Difference between list and tuple.\n",
    "#-->Tuple is a collection of elements of similar or different datatype\n",
    "#-->In Python, both lists and tuples are used to store collections of items.\n",
    "# However, there are a few key differences between them:\n",
    "\n",
    "#--> Mutability: Lists are mutable, which means you can change their content after they have\n",
    "#     been created. Tuples, on the other hand, are immutable, which means you cannot change\n",
    "#     their content after they have been created.\n",
    "#--> Syntax: Lists are created using square brackets [ ], while tuples are created using \n",
    "#     parentheses ( )."
   ]
  },
  {
   "cell_type": "code",
   "execution_count": 19,
   "id": "d7a58514",
   "metadata": {},
   "outputs": [
    {
     "name": "stdout",
     "output_type": "stream",
     "text": [
      "(35, 45.87, True, 'hello', [24, 75, 34], (32, 66), {1, 2}, {1: 'hello', 2: 'python'})\n",
      "\n",
      "int     : 35\n",
      "float   : 45.87\n",
      "boolean : True\n",
      "string  : hello\n",
      "list    : [24, 75, 34]\n",
      "tuple   : (32, 66)\n",
      "set     : {1, 2}\n",
      "Dict    : {1: 'hello', 2: 'python'}\n"
     ]
    }
   ],
   "source": [
    "# 19)Write a Python program to create a tuple with different data types.\n",
    "A=(35,45.87,True,\"hello\",[24,75,34],(32,66),{1,2},{1:\"hello\",2:\"python\"})\n",
    "print(A)\n",
    "print(\"\\nint     :\",A[0])\n",
    "print(\"float   :\",A[1])\n",
    "print(\"boolean :\",A[2])\n",
    "print(\"string  :\",A[3])\n",
    "print(\"list    :\",A[4])\n",
    "print(\"tuple   :\",A[5])\n",
    "print(\"set     :\",A[6])\n",
    "print(\"Dict    :\",A[7])"
   ]
  },
  {
   "cell_type": "code",
   "execution_count": 20,
   "id": "802a85c5",
   "metadata": {},
   "outputs": [
    {
     "name": "stdout",
     "output_type": "stream",
     "text": [
      "enter the number of elements :5\n",
      "1\n",
      "2\n",
      "3\n",
      "4\n",
      "5\n",
      "(1, 2, 3, 4, 5)\n"
     ]
    }
   ],
   "source": [
    "# 20)Write a Python program to create a tuple with numbers.\n",
    "\n",
    "A=[]\n",
    "n=int(input(\"enter the number of elements :\"))\n",
    "for i in range(0,n):\n",
    "    B= int(input())\n",
    "    A.append(B)\n",
    "\n",
    "print(tuple(A))"
   ]
  },
  {
   "cell_type": "code",
   "execution_count": 21,
   "id": "5af5c6d2",
   "metadata": {},
   "outputs": [
    {
     "name": "stdout",
     "output_type": "stream",
     "text": [
      "Hello python\n",
      "<class 'str'>\n"
     ]
    }
   ],
   "source": [
    "# 21)Write a Python program to convert a tuple to a string.\n",
    "A=('H', 'e', 'l', 'l', 'o',' ','p','y','t','h','o','n')\n",
    "A=\"\".join(A)\n",
    "print(A)\n",
    "print(type(A))"
   ]
  },
  {
   "cell_type": "code",
   "execution_count": 22,
   "id": "896bd01a",
   "metadata": {},
   "outputs": [
    {
     "name": "stdout",
     "output_type": "stream",
     "text": [
      "enter the value you want to check :hello\n",
      "-->hello does not exists in tuple A\n"
     ]
    }
   ],
   "source": [
    "# 22)Write a Python program to check whether an element exists within a tuple.\n",
    "A=('Hello','my','name','is','jeel')\n",
    "B=(input(\"enter the value you want to check :\"))\n",
    "if B in A:\n",
    "    print(f\"-->{B} exists in tuple A\")\n",
    "else:\n",
    "    print(f\"-->{B} does not exists in tuple A\")\n",
    "    "
   ]
  },
  {
   "cell_type": "code",
   "execution_count": 23,
   "id": "0ff30c51",
   "metadata": {},
   "outputs": [
    {
     "name": "stdout",
     "output_type": "stream",
     "text": [
      "7\n"
     ]
    }
   ],
   "source": [
    "# 23)Write a Python program to find the length of a tuple.\n",
    "A=(1,2,4,5,6,7,9)\n",
    "print(len(A))"
   ]
  },
  {
   "cell_type": "code",
   "execution_count": 24,
   "id": "dd95f3bd",
   "metadata": {},
   "outputs": [
    {
     "name": "stdout",
     "output_type": "stream",
     "text": [
      "(1, 3, 45, 6, 235, 65, 'adfskj', 'aldsh')\n",
      "<class 'tuple'>\n"
     ]
    }
   ],
   "source": [
    "# 24)Write a Python program to convert a list to a tuple.\n",
    "A=[1,3,45,6,235,65,\"adfskj\",\"aldsh\"]\n",
    "A=tuple(A)\n",
    "print(A)\n",
    "print(type(A))"
   ]
  },
  {
   "cell_type": "code",
   "execution_count": 25,
   "id": "0043ef2a",
   "metadata": {},
   "outputs": [
    {
     "name": "stdout",
     "output_type": "stream",
     "text": [
      "('aldsh', 'adfskj', 65, 235, 6, 45, 3, 1)\n"
     ]
    }
   ],
   "source": [
    "# 25)Write a Python program to reverse a tuple.\n",
    "A=(1, 3, 45, 6, 235, 65, 'adfskj', 'aldsh')\n",
    "print(A[::-1])"
   ]
  },
  {
   "cell_type": "code",
   "execution_count": 26,
   "id": "9eddd0a6",
   "metadata": {},
   "outputs": [
    {
     "name": "stdout",
     "output_type": "stream",
     "text": [
      "[9]\n",
      "<class 'list'>\n"
     ]
    }
   ],
   "source": [
    "# 26)Write a Python program to replace last value of tuples in a list.\n",
    "A=(1,2,4,5,6,7,9)\n",
    "B=[]\n",
    "B.append(A[6])\n",
    "print(B)\n",
    "print(type(B))"
   ]
  },
  {
   "cell_type": "code",
   "execution_count": 27,
   "id": "b58f2a58",
   "metadata": {},
   "outputs": [
    {
     "name": "stdout",
     "output_type": "stream",
     "text": [
      "{24, 3, 4}\n"
     ]
    }
   ],
   "source": [
    "# 27)Write a Python program to find the repeated items of a tuple.\n",
    "A=(24,24,15,3,1,6,3,2,4,56,78,4)\n",
    "B=[]\n",
    "for i in A:\n",
    "    if A.count(i)>1:\n",
    "        B.append(i)\n",
    "print(set(B))"
   ]
  },
  {
   "cell_type": "code",
   "execution_count": 28,
   "id": "0a6d3852",
   "metadata": {},
   "outputs": [
    {
     "name": "stdout",
     "output_type": "stream",
     "text": [
      "[(1, 3, 45, 6), (235, 65), 'adfskj', 'aldsh']\n"
     ]
    }
   ],
   "source": [
    "# 28)Write a Python program to remove an empty tuple(s) from a list of tuples.\n",
    "A=[(1, 3, 45, 6),(), (235, 65), ('adfskj'), (),('aldsh')]\n",
    "B=[]\n",
    "for i in A:\n",
    "    if i:\n",
    "        B.append(i)\n",
    "\n",
    "print(B)"
   ]
  },
  {
   "cell_type": "code",
   "execution_count": 29,
   "id": "29486988",
   "metadata": {},
   "outputs": [
    {
     "name": "stdout",
     "output_type": "stream",
     "text": [
      "(1, 2, 3)\n",
      "('Hello', 'World', '!')\n"
     ]
    }
   ],
   "source": [
    "# 29)Write a Python program to unzip a list of tuples into individual lists.\n",
    "A=[(1, 'Hello'), (2, 'World'), (3, '!')]\n",
    "a,b=zip(*A)\n",
    "print(a)\n",
    "print(b)"
   ]
  },
  {
   "cell_type": "code",
   "execution_count": 30,
   "id": "60c005c7",
   "metadata": {},
   "outputs": [
    {
     "name": "stdout",
     "output_type": "stream",
     "text": [
      "{'a': 1, 'b': 2, 'c': 3}\n"
     ]
    }
   ],
   "source": [
    "# 30)Write a Python program to convert a list of tuples into a dictionary.\n",
    "\n",
    "A=[('a',1),('b',2),('c',3)]\n",
    "C=dict(A)\n",
    "print(C)\n"
   ]
  },
  {
   "cell_type": "code",
   "execution_count": 31,
   "id": "6a79a729",
   "metadata": {},
   "outputs": [
    {
     "name": "stdout",
     "output_type": "stream",
     "text": [
      "{'a': 1, 'b': 2, 'c': 3}\n"
     ]
    }
   ],
   "source": [
    "# 31)How will you create a dictionary using tuples in python?\n",
    "A=(('a',1),('b',2),('c',3))\n",
    "B=dict(A)\n",
    "print(B)\n"
   ]
  },
  {
   "cell_type": "code",
   "execution_count": 32,
   "id": "fa66d749",
   "metadata": {},
   "outputs": [
    {
     "name": "stdout",
     "output_type": "stream",
     "text": [
      "{'abc': 1, 'def': 2, 'ghi': 3, 'jkl': 4, 'mno': 5}\n",
      "{'mno': 5, 'jkl': 4, 'ghi': 3, 'def': 2, 'abc': 1}\n"
     ]
    }
   ],
   "source": [
    "# 32)Write a Python script to sort (ascending and descending) a dictionary by\n",
    "# value.\n",
    "A={'def':2,'mno':5,'ghi':3,'abc':1,'jkl':4}\n",
    "b=sorted(A.items(), key=lambda x: x[1])\n",
    "c=sorted(A.items(),key=lambda x:x[1],reverse=True)\n",
    "print(dict(b))\n",
    "print(dict(c))"
   ]
  },
  {
   "cell_type": "code",
   "execution_count": 33,
   "id": "506ccfbc",
   "metadata": {},
   "outputs": [
    {
     "name": "stdout",
     "output_type": "stream",
     "text": [
      "{'a': 1, 'b': 2, 'c': 3, 'd': 4, 'e': 5, 'f': 6}\n"
     ]
    }
   ],
   "source": [
    "# 33)Write a Python script to concatenate following dictionaries to create a\n",
    "# new one.\n",
    "\n",
    "A = {'a': 1, 'b': 2}\n",
    "B = {'c': 3, 'd': 4}\n",
    "C = {'e': 5, 'f': 6}\n",
    "\n",
    "D = {**A,**B,**C}\n",
    "\n",
    "print(D)\n"
   ]
  },
  {
   "cell_type": "code",
   "execution_count": 34,
   "id": "4f3adb55",
   "metadata": {},
   "outputs": [
    {
     "name": "stdout",
     "output_type": "stream",
     "text": [
      "enter the value of Key :7\n",
      "not found\n"
     ]
    }
   ],
   "source": [
    "# 34)Write a Python script to check if a given key already exists in a\n",
    "# dictionary.\n",
    "A={1:\"hello\",2:\"world\",3:\"my\",4:\"name\",5:\"is\",6:\"jeel\"}\n",
    "n=int(input(\"enter the value of Key :\"))\n",
    "B=A.get(n,\"not found\")\n",
    "print(B)"
   ]
  },
  {
   "cell_type": "code",
   "execution_count": 35,
   "id": "8da6040a",
   "metadata": {},
   "outputs": [
    {
     "name": "stdout",
     "output_type": "stream",
     "text": [
      "1\n",
      "2\n",
      "3\n",
      "4\n",
      "5\n",
      "6\n",
      "hello\n",
      "world\n",
      "my\n",
      "name\n",
      "is\n",
      "jeel\n",
      "1:hello\n",
      "2:world\n",
      "3:my\n",
      "4:name\n",
      "5:is\n",
      "6:jeel\n"
     ]
    }
   ],
   "source": [
    "# 35)How Do You Traverse Through A Dictionary Object In Python?\n",
    "\n",
    "A={1:\"hello\",2:\"world\",3:\"my\",4:\"name\",5:\"is\",6:\"jeel\"}\n",
    "for k in A:\n",
    "    print(k)\n",
    "for v in A.values():\n",
    "    print(v)\n",
    "for k,v in A.items():\n",
    "    print(f\"{k}:{v}\")\n"
   ]
  },
  {
   "cell_type": "code",
   "execution_count": 36,
   "id": "b6f178f8",
   "metadata": {},
   "outputs": [
    {
     "name": "stdout",
     "output_type": "stream",
     "text": [
      "enter the value of Key :9\n",
      "not found\n"
     ]
    }
   ],
   "source": [
    "# 36)How Do You Check The Presence Of A Key In A Dictionary?\n",
    "A={1:\"hello\",2:\"world\",3:\"my\",4:\"name\",5:\"is\",6:\"jeel\"}\n",
    "n=int(input(\"enter the value of Key :\"))\n",
    "B=A.get(n,\"not found\")\n",
    "print(B)"
   ]
  },
  {
   "cell_type": "code",
   "execution_count": 37,
   "id": "adfe78c0",
   "metadata": {},
   "outputs": [
    {
     "name": "stdout",
     "output_type": "stream",
     "text": [
      "{1: 'hello', 2: 'hello', 3: 'hello', 4: 'hello', 5: 'hello', 6: 'hello', 7: 'hello', 8: 'hello', 9: 'hello', 10: 'hello', 11: 'hello', 12: 'hello', 13: 'hello', 14: 'hello', 15: 'hello'}\n"
     ]
    }
   ],
   "source": [
    "# 37)Write a Python script to print a dictionary where the keys are numbers\n",
    "# between 1 and 15.\n",
    "A={}\n",
    "for i in range(1,16):\n",
    "    A[i]=\"hello\"\n",
    "print(A)"
   ]
  },
  {
   "cell_type": "code",
   "execution_count": 38,
   "id": "d22cb6ec",
   "metadata": {},
   "outputs": [
    {
     "name": "stdout",
     "output_type": "stream",
     "text": [
      "yes,there are multiple keys in dictionary.\n"
     ]
    }
   ],
   "source": [
    "# 38)Write a Python program to check multiple keys exists in a dictionary\n",
    "A={1:\"hello\",2:\"world\",3:\"my\",4:\"name\",5:\"is\",6:\"jeel\"}\n",
    "a=A.keys()\n",
    "if len(a)>1:\n",
    "    print(\"yes,there are multiple keys in dictionary.\")\n",
    "else:\n",
    "    print(\"no,there is only one key in dictionary.\")"
   ]
  },
  {
   "cell_type": "code",
   "execution_count": 39,
   "id": "245c6239",
   "metadata": {},
   "outputs": [
    {
     "name": "stdout",
     "output_type": "stream",
     "text": [
      "{1: 'hello', 2: 'world', 3: 'my', 4: 'name', 5: 'is', 6: 'jeel', 7: 'hello', 8: 'world', 9: 'my', 10: 'name', 11: 'is', 12: 'jeel'}\n"
     ]
    }
   ],
   "source": [
    "# 39)Write a Python script to merge two Python dictionaries\n",
    "A={1:\"hello\",2:\"world\",3:\"my\",4:\"name\",5:\"is\",6:\"jeel\"}\n",
    "B={7:\"hello\",8:\"world\",9:\"my\",10:\"name\",11:\"is\",12:\"jeel\"}\n",
    "A.update(B)\n",
    "print(A)"
   ]
  },
  {
   "cell_type": "code",
   "execution_count": 40,
   "id": "ecb596d3",
   "metadata": {},
   "outputs": [
    {
     "name": "stdout",
     "output_type": "stream",
     "text": [
      "{1: 'hello', 2: 'world', 3: '!'}\n"
     ]
    }
   ],
   "source": [
    "# 40)Write a Python program to map two lists into a dictionary\n",
    "A=[1,2,3]\n",
    "B=['hello','world','!']\n",
    "C={A[i]: B[i] for i in range(len(A))}\n",
    "\n",
    "print(C)"
   ]
  },
  {
   "cell_type": "code",
   "execution_count": 41,
   "id": "eadd9b99",
   "metadata": {},
   "outputs": [
    {
     "name": "stdout",
     "output_type": "stream",
     "text": [
      "{'a': 400, 'b': 400, 'c': 300, 'd': 400}\n"
     ]
    }
   ],
   "source": [
    "# 41)Write a Python program to combine two dictionary adding values for\n",
    "# common keys.\n",
    "# d1 = {'a': 100, 'b': 200, 'c':300} o d2 = {'a': 300, 'b': 200,’d’:400} \n",
    "# Sample output: Counter ({'a': 400, 'b': 400,’d’: 400, 'c': 300}).\n",
    "d1 = {'a': 100, 'b': 200, 'c':300}\n",
    "d2 = {'a': 300, 'b': 200,'d':400}\n",
    "for i in d2:\n",
    "    if i in d1:\n",
    "        d1[i] += d2[i]\n",
    "    else:\n",
    "        d1[i] = d2[i]\n",
    "print(d1)"
   ]
  },
  {
   "cell_type": "code",
   "execution_count": 42,
   "id": "f2fce597",
   "metadata": {},
   "outputs": [
    {
     "name": "stdout",
     "output_type": "stream",
     "text": [
      "{'is', 'jeel', 'my'}\n"
     ]
    }
   ],
   "source": [
    "# 42)Write a Python program to print all unique values in a dictionary.\n",
    "A={1:\"my\",2:\"is\",3:\"my\",4:\"jeel\",5:\"is\",6:\"jeel\"}\n",
    "b={i for i in A.values()}\n",
    "print(b)"
   ]
  },
  {
   "cell_type": "code",
   "execution_count": 43,
   "id": "26a4398c",
   "metadata": {},
   "outputs": [],
   "source": [
    "# 43)Why Do You Use the Zip () Method in Python?\n",
    "# --> The zip() function in Python is used to combine two or more iterables into a \n",
    "# single iterable of tuples. The resulting iterable can then be used for various\n",
    "# purposes such as iteration, unpacking, and even creating dictionaries."
   ]
  },
  {
   "cell_type": "code",
   "execution_count": 44,
   "id": "53164a4f",
   "metadata": {},
   "outputs": [
    {
     "name": "stdout",
     "output_type": "stream",
     "text": [
      "['ac', 'ad', 'bc', 'bd']\n"
     ]
    }
   ],
   "source": [
    "# 44)Write a Python program to create and display all combinations of letters, \n",
    "# selecting each letter from a different key in a dictionary.\n",
    "# Sample data: {'1': ['a','b'], '2': ['c','d']}\n",
    "# Expected Output:\n",
    "# ac ad bc bd\n",
    "import itertools\n",
    "\n",
    "A = {'1': ['a', 'b'], '2': ['c', 'd']}\n",
    "B = [''.join(i) for i in itertools.product(*A.values())]\n",
    "print(B)\n",
    "# --------------------------------------------------------------"
   ]
  },
  {
   "cell_type": "code",
   "execution_count": 45,
   "id": "f3bcdbd8",
   "metadata": {},
   "outputs": [
    {
     "name": "stdout",
     "output_type": "stream",
     "text": [
      "{'mno': 5, 'jkl': 4, 'ghi': 3}\n"
     ]
    }
   ],
   "source": [
    "# 45)Write a Python program to find the highest 3 values in a dictionary.\n",
    "A={'def':2,'mno':5,'ghi':3,'abc':1,'jkl':4}\n",
    "B=sorted(A.items(),key=lambda x:x[1],reverse=True)\n",
    "print(dict(B[:3]))"
   ]
  },
  {
   "cell_type": "code",
   "execution_count": 46,
   "id": "1becf64c",
   "metadata": {},
   "outputs": [
    {
     "name": "stdout",
     "output_type": "stream",
     "text": [
      "{'item1': 1150, 'item2': 300}\n"
     ]
    }
   ],
   "source": [
    "# 46)Write a Python program to combine values in python list of dictionaries.\n",
    "# Sample data: [{'item': 'item1', 'amount': 400}, {'item': 'item2', 'amount': 300},\n",
    "# o {'item': 'item1', 'amount': 750}]\n",
    "# Expected Output:\n",
    "# Counter ({'item1': 1150, 'item2': 300})\n",
    "A=[{'item': 'item1', 'amount': 400}, {'item': 'item2', 'amount': 300},\n",
    "   {'item': 'item1', 'amount': 750}]\n",
    "B={}\n",
    "for i in A:\n",
    "    a=i['item']\n",
    "    b=i['amount']\n",
    "    if a in B:\n",
    "        B[a] += b\n",
    "    else:\n",
    "        B[a] = b\n",
    "        \n",
    "print(B)\n"
   ]
  },
  {
   "cell_type": "code",
   "execution_count": 47,
   "id": "196971ab",
   "metadata": {},
   "outputs": [
    {
     "name": "stdout",
     "output_type": "stream",
     "text": [
      "{'H': 1, 'e': 4, 'l': 3, 'o': 2, ' ': 8, 'P': 1, 'y': 2, 't': 1, 'h': 2, 'n': 3, ',': 1, 'M': 1, 'a': 3, 'm': 1, 'i': 2, 's': 1, 'V': 1, 'g': 1, 'J': 1, '.': 1}\n"
     ]
    }
   ],
   "source": [
    "# 47)Write a Python program to create a dictionary from a string. Note: Track the \n",
    "# count of the letters from the string.\n",
    "# Sample string: 'w3resource'\n",
    "# Expected output:\n",
    "# {'3': 1,’s’: 1, 'r': 2, 'u': 1, 'w': 1, 'c': 1, 'e': 2, 'o': 1}\n",
    "A=\"Hello Python , My name is Vaghani Jeel .\"\n",
    "s={}\n",
    "for i in A:\n",
    "    if i in s:\n",
    "        s[i]+=1\n",
    "    else:\n",
    "        s[i]=1\n",
    "print(s)"
   ]
  },
  {
   "cell_type": "code",
   "execution_count": 48,
   "id": "fe2b1800",
   "metadata": {},
   "outputs": [
    {
     "name": "stdout",
     "output_type": "stream",
     "text": [
      "24\n"
     ]
    }
   ],
   "source": [
    "# 48)Write a Python function to calculate the factorial of a number \n",
    "# (a nonnegative integer)\n",
    "import math\n",
    "def A(a):\n",
    "    if a>0:\n",
    "        B=math.factorial(a)\n",
    "        print(B)\n",
    "    else:\n",
    "        print(\"enter a positive number.\")\n",
    "        \n",
    "        \n",
    "A(4)"
   ]
  },
  {
   "cell_type": "code",
   "execution_count": 49,
   "id": "d079ff0f",
   "metadata": {},
   "outputs": [
    {
     "name": "stdout",
     "output_type": "stream",
     "text": [
      "yes\n"
     ]
    }
   ],
   "source": [
    "# 49)Write a Python function to check whether a number is in a given range\n",
    "def A(n,a,b):\n",
    "    if n>=a and n<=b:\n",
    "        print(\"yes\")\n",
    "    else:\n",
    "        print(\"no\")\n",
    "        \n",
    "A(5,1,10)"
   ]
  },
  {
   "cell_type": "code",
   "execution_count": 50,
   "id": "5ca4c3de",
   "metadata": {},
   "outputs": [
    {
     "name": "stdout",
     "output_type": "stream",
     "text": [
      "perfect\n"
     ]
    }
   ],
   "source": [
    "# 50)Write a Python function to check whether a number is perfect or not.\n",
    "def perfect(a):\n",
    "    list1=[]\n",
    "    for i in range(1,int(a/2)+1):\n",
    "        if a%i==0:\n",
    "            list1.append(i)\n",
    "    add=sum(list1)\n",
    "    if add==a:\n",
    "        print(\"perfect\")\n",
    "    else:\n",
    "        print(\"not perfect\")\n",
    "        \n",
    "            \n",
    "perfect(6)"
   ]
  },
  {
   "cell_type": "code",
   "execution_count": 51,
   "id": "8f4b80e3",
   "metadata": {},
   "outputs": [
    {
     "name": "stdout",
     "output_type": "stream",
     "text": [
      "enter a string :abba\n",
      "abba is palindrome\n"
     ]
    }
   ],
   "source": [
    "# 51)Write a Python function that checks whether a passed string is\n",
    "# palindrome or not.\n",
    "\n",
    "def A(a):\n",
    "    if a == a[::-1]:\n",
    "        print(f\"{a} is palindrome\")\n",
    "    else:\n",
    "        print(f\"{a}is not a palindrome\")\n",
    "        \n",
    "a=str(input(\"enter a string :\"))\n",
    "A(a)"
   ]
  },
  {
   "cell_type": "code",
   "execution_count": 52,
   "id": "0ca455a1",
   "metadata": {},
   "outputs": [],
   "source": [
    "# 52)How Many Basic Types Of Functions Are Available In Python?\n",
    "#--> Built-in Functions: These functions are pre-defined in Python and are available for \n",
    "# use without the need for any import statements. Examples include print(), len(), type(),\n",
    "# max(), min(), sum(), etc.\n",
    "# -->User-Defined Functions: These functions are created by the programmer to perform a\n",
    "# specific task. They can be created using the def keyword and can take one or more \n",
    "# arguments.\n",
    "# -->Anonymous Functions or Lambda Functions: These are functions without a name, which\n",
    "# can be created using the lambda keyword. They are typically used for short and simple \n",
    "# operations."
   ]
  },
  {
   "cell_type": "code",
   "execution_count": 53,
   "id": "66d60b05",
   "metadata": {},
   "outputs": [
    {
     "name": "stdout",
     "output_type": "stream",
     "text": [
      "3\n",
      "aldsh\n"
     ]
    }
   ],
   "source": [
    "# 53)How can you pick a random item from a list or tuple?\n",
    "import random\n",
    "A=[1,3,45,6,235,65,\"adfskj\",\"aldsh\"]\n",
    "a=(1,3,45,6,235,65,\"adfskj\",\"aldsh\")\n",
    "B=random.choice(A)\n",
    "b=random.choice(a)\n",
    "print(B)\n",
    "print(b)"
   ]
  },
  {
   "cell_type": "code",
   "execution_count": 54,
   "id": "bf61a25e",
   "metadata": {},
   "outputs": [
    {
     "name": "stdout",
     "output_type": "stream",
     "text": [
      "3\n"
     ]
    }
   ],
   "source": [
    "# 54)How can you pick a random item from a range?\n",
    "import random\n",
    "\n",
    "# Generate a random integer between 1 and 10 (inclusive)\n",
    "A = random.randint(1, 10)\n",
    "print(A)\n"
   ]
  },
  {
   "cell_type": "code",
   "execution_count": 55,
   "id": "a9d271c9",
   "metadata": {},
   "outputs": [
    {
     "name": "stdout",
     "output_type": "stream",
     "text": [
      "8\n"
     ]
    }
   ],
   "source": [
    "# 55)How can you get a random number in python?\n",
    "import random\n",
    "A=[1,2,4,5,6,7,8,90,20,39]\n",
    "a=random.choice(A)\n",
    "print(a)"
   ]
  },
  {
   "cell_type": "code",
   "execution_count": 77,
   "id": "4588780e",
   "metadata": {},
   "outputs": [
    {
     "name": "stdout",
     "output_type": "stream",
     "text": [
      "None\n"
     ]
    }
   ],
   "source": [
    "# 56)How will you set the starting value in generating random numbers?\n",
    "# -->When generating random numbers, the starting value is commonly referred to as the\n",
    "# \"seed.\" The seed value is used to initialize the random number generator, which then\n",
    "# produces a sequence of seemingly random numbers.\n",
    "# -->For example, in Python, you can set the seed value using the seed() function\n",
    "# provided by the random module. Here is an example of setting the seed value to 42:\n",
    "import random\n",
    "a=random.seed(42)\n",
    "print(a)\n"
   ]
  },
  {
   "cell_type": "code",
   "execution_count": 75,
   "id": "47071341",
   "metadata": {},
   "outputs": [
    {
     "name": "stdout",
     "output_type": "stream",
     "text": [
      "[1, '!', 10, 'hello', 9, 3, 'world', 6, 8, 5, 7, 2, 4]\n"
     ]
    }
   ],
   "source": [
    "# 57)How will you randomizes the items of a list in place?\n",
    "import random\n",
    "A=[1,2,3,4,5,6,7,8,9,10,\"hello\",\"world\",\"!\"]\n",
    "random.shuffle(A)\n",
    "print(A)"
   ]
  },
  {
   "cell_type": "code",
   "execution_count": 58,
   "id": "09138ffc",
   "metadata": {},
   "outputs": [],
   "source": [
    "# 58)Write a Python program to read a random line from a file.\n"
   ]
  },
  {
   "cell_type": "code",
   "execution_count": 81,
   "id": "e7d62279",
   "metadata": {},
   "outputs": [
    {
     "name": "stdout",
     "output_type": "stream",
     "text": [
      "Enter a degree:90\n",
      "1.5707963267948966\n"
     ]
    }
   ],
   "source": [
    "# 59)Write a Python program to convert degree to radian\n",
    "import math\n",
    "degree = int(input(\"Enter a degree:\"))\n",
    "radian = math.radians(degree)\n",
    "print(radian)"
   ]
  },
  {
   "cell_type": "code",
   "execution_count": 86,
   "id": "4bc75fb0",
   "metadata": {},
   "outputs": [
    {
     "name": "stdout",
     "output_type": "stream",
     "text": [
      "enter the lenght of base a :2.2\n",
      "enter the lenght of base b :5.2\n",
      "enter the lenght of height c :1.1\n",
      "the area of trapezoid is 6.292000000000002\n"
     ]
    }
   ],
   "source": [
    "# 60)Write a Python program to calculate the area of a trapezoid\n",
    "a=float(input(\"enter the lenght of base a :\"))\n",
    "b=float(input(\"enter the lenght of base b :\"))\n",
    "c=float(input(\"enter the lenght of height c :\"))\n",
    "Area=((a*b)*c)/2\n",
    "print(f\"the area of trapezoid is {Area}\")"
   ]
  },
  {
   "cell_type": "code",
   "execution_count": 87,
   "id": "9b2e4868",
   "metadata": {},
   "outputs": [
    {
     "name": "stdout",
     "output_type": "stream",
     "text": [
      "enter the lenght of base a :3\n",
      "enter the lenght of height b :4\n",
      "the area of parallelogram is 12.0\n"
     ]
    }
   ],
   "source": [
    "# 61)Write a Python program to calculate the area of a parallelogram\n",
    "a=float(input(\"enter the lenght of base a :\"))\n",
    "b=float(input(\"enter the lenght of height b :\"))\n",
    "Area=a*b\n",
    "print(f\"the area of parallelogram is {Area}\")"
   ]
  },
  {
   "cell_type": "code",
   "execution_count": 93,
   "id": "ee0331a8",
   "metadata": {},
   "outputs": [
    {
     "name": "stdout",
     "output_type": "stream",
     "text": [
      "Enter the radius of the cylinder: 6\n",
      "Enter the height of the cylinder: 2\n",
      "The surface area of the cylinder is 301.59289474462014\n",
      "The volume of the cylinder is 226.1946710584651\n"
     ]
    }
   ],
   "source": [
    "# 62)Write a Python program to calculate surface volume and area of a cylinder\n",
    "import math\n",
    "\n",
    "radius = float(input(\"Enter the radius of the cylinder: \"))\n",
    "height = float(input(\"Enter the height of the cylinder: \"))\n",
    "\n",
    "sa = 2 * (math.pi) * (radius) * (radius + height)\n",
    "vol = (math.pi) * (radius ** 2) * (height)\n",
    "\n",
    "print(f\"The surface area of the cylinder is {sa}\")\n",
    "print(f\"The volume of the cylinder is {vol}\")\n"
   ]
  },
  {
   "cell_type": "code",
   "execution_count": 95,
   "id": "cf783300",
   "metadata": {},
   "outputs": [
    {
     "name": "stdout",
     "output_type": "stream",
     "text": [
      "Enter a number: 3\n",
      "Sum of divisors of 3 is 4\n"
     ]
    }
   ],
   "source": [
    "# 63)Write a Python program to returns sum of all divisors of a number\n",
    "a = int(input(\"Enter a number: \"))\n",
    "b = 0\n",
    "\n",
    "for i in range(1, a+1):\n",
    "    if a % i == 0:\n",
    "        b += i\n",
    "\n",
    "print(\"Sum of divisors of\", a, \"is\", b)\n"
   ]
  },
  {
   "cell_type": "code",
   "execution_count": 102,
   "id": "61e463d0",
   "metadata": {},
   "outputs": [
    {
     "name": "stdout",
     "output_type": "stream",
     "text": [
      "enter the number of elements :5\n",
      "1.2\n",
      "4.3\n",
      "2.7\n",
      "0.7\n",
      "3.6\n",
      "[1.2, 4.3, 2.7, 0.7, 3.6]\n",
      "4.3 is the maximum  from the specified decimal numbers. \n",
      "0.7 is the minimum  from the specified decimal numbers. \n"
     ]
    }
   ],
   "source": [
    "# 64)Write a Python program to find the maximum and minimum numbers from the specified\n",
    "# decimal numbers.\n",
    "A=[]\n",
    "n=int(input(\"enter the number of elements :\"))\n",
    "for i in range(0,n):\n",
    "    B= float(input())\n",
    "    A.append(B)\n",
    "    a=max(A)\n",
    "    b=min(A)\n",
    "    \n",
    "print(A)    \n",
    "print(f\"{a} is the maximum  from the specified decimal numbers. \")\n",
    "print(f\"{b} is the minimum  from the specified decimal numbers. \")"
   ]
  },
  {
   "cell_type": "code",
   "execution_count": null,
   "id": "60ad1d9b",
   "metadata": {},
   "outputs": [],
   "source": []
  }
 ],
 "metadata": {
  "kernelspec": {
   "display_name": "Python 3 (ipykernel)",
   "language": "python",
   "name": "python3"
  },
  "language_info": {
   "codemirror_mode": {
    "name": "ipython",
    "version": 3
   },
   "file_extension": ".py",
   "mimetype": "text/x-python",
   "name": "python",
   "nbconvert_exporter": "python",
   "pygments_lexer": "ipython3",
   "version": "3.10.7"
  }
 },
 "nbformat": 4,
 "nbformat_minor": 5
}
