{
 "cells": [
  {
   "cell_type": "code",
   "execution_count": 2,
   "id": "3712b235",
   "metadata": {},
   "outputs": [],
   "source": [
    "# arithmetic operator + - * / %(modulus) //floor division **(power)\n",
    "# relational operators > < >= <= == !=\n",
    "# Logical operators and or not\n",
    "# bitwise operators & | >> << ^Bitwise exclusice or(XOR)\n",
    "# identity operator is is not\n",
    "# membership operator in not in\n",
    "# assignement operator = += -= *= /=....."
   ]
  },
  {
   "cell_type": "code",
   "execution_count": null,
   "id": "99c4d62c",
   "metadata": {},
   "outputs": [],
   "source": [
    "# aritmetics operator"
   ]
  },
  {
   "cell_type": "code",
   "execution_count": 22,
   "id": "111065c1",
   "metadata": {},
   "outputs": [
    {
     "name": "stdout",
     "output_type": "stream",
     "text": [
      "113\n",
      "-23\n",
      "40\n",
      "9.0\n",
      "3\n",
      "22\n",
      "16\n"
     ]
    }
   ],
   "source": [
    "print(45+68)\n",
    "print(45-68)\n",
    "print(5*8)\n",
    "print(45/5)\n",
    "print(45%6)\n",
    "print(45//2)\n",
    "print(2**4)"
   ]
  },
  {
   "cell_type": "code",
   "execution_count": 37,
   "id": "642047d7",
   "metadata": {},
   "outputs": [
    {
     "name": "stdout",
     "output_type": "stream",
     "text": [
      "False\n",
      "True\n",
      "False\n",
      "True\n",
      "True\n",
      "True\n",
      "False\n",
      "........\n",
      "False\n",
      "True\n",
      "False\n",
      "True\n"
     ]
    }
   ],
   "source": [
    "# relational operators\n",
    "print(23>34)\n",
    "print(23<34)\n",
    "print(23>=34)\n",
    "print(23<=34)\n",
    "print(23==23)\n",
    "print(23!=33)\n",
    "print(23!=23)\n",
    "print(\"........\")\n",
    "\n",
    "print(\"jeel\" > \"vaghani\")\n",
    "print(\"jeel\" < \"vaghani\")\n",
    "print(\"jeel\" >= \"vaghani\")\n",
    "print(\"jeel\" == \"jeel\")"
   ]
  },
  {
   "cell_type": "code",
   "execution_count": 57,
   "id": "ca033acc",
   "metadata": {},
   "outputs": [
    {
     "name": "stdout",
     "output_type": "stream",
     "text": [
      "True\n"
     ]
    }
   ],
   "source": [
    "# Logical operators\n",
    "\n",
    "print(29<=44<47<=87>=9!=88==88)\n",
    "# 29<=44 -- 1\n",
    "# 44<47 -- 1\n",
    "# 47 <= 87 -- 1\n",
    "# 87>=9 -- 1 \n",
    "# 9!=88 -- 1\n",
    "# 88==88 -- 1"
   ]
  },
  {
   "cell_type": "code",
   "execution_count": 58,
   "id": "82d7528f",
   "metadata": {},
   "outputs": [
    {
     "name": "stdout",
     "output_type": "stream",
     "text": [
      "False\n"
     ]
    }
   ],
   "source": [
    "# Logical operators\n",
    "\n",
    "print(29>=44>47>=87<=9==88!=88)\n",
    "# 29>=44 -- 0\n",
    "# 44>47 -- 0\n",
    "# 47 >= 87 -- 0\n",
    "# 87<=9 -- 0 \n",
    "# 9==88 -- 0\n",
    "# 88!=88 -- 0"
   ]
  },
  {
   "cell_type": "code",
   "execution_count": 59,
   "id": "f31b27ae",
   "metadata": {},
   "outputs": [
    {
     "name": "stdout",
     "output_type": "stream",
     "text": [
      "True\n"
     ]
    }
   ],
   "source": [
    "print(29>=44 or 44>47 or 47>=87 or 87>=9 or 9==88 or 88!=88)"
   ]
  },
  {
   "cell_type": "code",
   "execution_count": 69,
   "id": "c81f07c4",
   "metadata": {},
   "outputs": [
    {
     "name": "stdout",
     "output_type": "stream",
     "text": [
      "0\n",
      "125\n",
      "356\n",
      "22\n",
      "125\n"
     ]
    }
   ],
   "source": [
    "# bitwise operators\n",
    "print(89&36)\n",
    "print(89|36)\n",
    "print(89<<2)\n",
    "print(89>>2)\n",
    "print(89^36)"
   ]
  },
  {
   "cell_type": "code",
   "execution_count": null,
   "id": "25877af7",
   "metadata": {},
   "outputs": [],
   "source": []
  }
 ],
 "metadata": {
  "kernelspec": {
   "display_name": "Python 3 (ipykernel)",
   "language": "python",
   "name": "python3"
  },
  "language_info": {
   "codemirror_mode": {
    "name": "ipython",
    "version": 3
   },
   "file_extension": ".py",
   "mimetype": "text/x-python",
   "name": "python",
   "nbconvert_exporter": "python",
   "pygments_lexer": "ipython3",
   "version": "3.10.7"
  }
 },
 "nbformat": 4,
 "nbformat_minor": 5
}
